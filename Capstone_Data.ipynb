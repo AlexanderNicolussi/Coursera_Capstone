{
 "cells": [
  {
   "cell_type": "markdown",
   "metadata": {},
   "source": [
    "21.11.2020"
   ]
  },
  {
   "cell_type": "markdown",
   "metadata": {},
   "source": [
    "### Capstone Project - The Battle of Neighborhoods"
   ]
  },
  {
   "cell_type": "markdown",
   "metadata": {},
   "source": [
    "# Nightlife-activity in London"
   ]
  },
  {
   "cell_type": "markdown",
   "metadata": {},
   "source": [
    "## Data"
   ]
  },
  {
   "cell_type": "markdown",
   "metadata": {},
   "source": [
    "To carry out the aforementioned analysis we need data. Firstly, we need the names and locations of the various areas in the Greater London Area. We can get these from Wikipedia.\n",
    "\n",
    "Wikipedia London Areas link: https://en.wikipedia.org/wiki/List_of_areas_of_London\n",
    "\n",
    "We can scrape these without the use of any additional library. We can use **pandas.read_html** to extract information from the wikipedia page. We can drop everything except the names. Then, we proceed by looking for the locations of these areas. We can use **geopy** to obtain the locations of the areas, meaning the latitude and longitude of each point. We use a loop to do this for every area on our list.\n",
    "\n",
    "To obtain the venues that are present we use Foursquare. This allowes us to obtain data about surrounding venues. Again, we use this for every area and are able to obtain the nearest 70 venues in a radius of 500 metres. These are a statistical representation of the areas. From this we can filter venues that contain indicator names such as **Restaurant, Pub, Theatre, Bar** and so on. We can compute the frequency of these signal words and obtain a rate for nightlife-activities. "
   ]
  }
 ],
 "metadata": {
  "kernelspec": {
   "display_name": "Python 3",
   "language": "python",
   "name": "python3"
  },
  "language_info": {
   "codemirror_mode": {
    "name": "ipython",
    "version": 3
   },
   "file_extension": ".py",
   "mimetype": "text/x-python",
   "name": "python",
   "nbconvert_exporter": "python",
   "pygments_lexer": "ipython3",
   "version": "3.8.3"
  }
 },
 "nbformat": 4,
 "nbformat_minor": 4
}
