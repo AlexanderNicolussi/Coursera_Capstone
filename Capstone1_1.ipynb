{
 "cells": [
  {
   "cell_type": "markdown",
   "metadata": {},
   "source": [
    "21.11.2020"
   ]
  },
  {
   "cell_type": "markdown",
   "metadata": {},
   "source": [
    "# Capstone Project - The Battle of Neighborhoods"
   ]
  },
  {
   "cell_type": "markdown",
   "metadata": {},
   "source": [
    "## Introduction"
   ]
  },
  {
   "cell_type": "markdown",
   "metadata": {},
   "source": [
    "This report intends to examine the distribution of nightlife-activity in London, UK. The aim of the project is to find regions in the Greater London Area that have significant nightlife-activity (Pubs, Restaurants, Theatres…). Furthermore, we will try to analyse if a cluster with high activity exists and we will try to justify its location. One big problem when moving to a new city is to identify a suitable area where we want to live. And a lot of studies have been done on how pricy each area is, so we will not go further into that aspect. A lot of times one has not many contacts in a city when first arriving, so it can be difficult to get the right intel. Especially many young people have the urgent desire to live in a community with a vibrant nightlife. For this purpose, we have analysed the centres of activity in the Greater London Area, not just Inner London, to get a full picture of the city. This problem can be solved by using the Foursquare location data. We can use the areas and find nearby venues. We can therefore look at the frequency of nightlife venues among them. "
   ]
  },
  {
   "cell_type": "markdown",
   "metadata": {},
   "source": [
    "## Data"
   ]
  },
  {
   "cell_type": "markdown",
   "metadata": {},
   "source": [
    "For this project we require the names of the areas in London and also their locations, meaning latitude and longitude. We can obtain the required area names from Wikipedia (https://en.wikipedia.org/wiki/List_of_areas_of_London). We can scrape the website using pandas.read_html. Once we obtain the names of the areas, we still need the location data. We can use geopy to obtain this data. By creating a loop for each area name, we are able to obtain the latitude and longitude of each area. Once we have this data, we can use Foursquare location data to obtain nearby venues. These are a statistical representation of the areas. From this we can filter venues that contain indicator names such as Restaurant, Pub, Theatre, Bar and so on. We can compute the frequency of these signal words and obtain a rate for nightlife-activities. "
   ]
  },
  {
   "cell_type": "code",
   "execution_count": null,
   "metadata": {},
   "outputs": [],
   "source": []
  }
 ],
 "metadata": {
  "kernelspec": {
   "display_name": "Python 3",
   "language": "python",
   "name": "python3"
  },
  "language_info": {
   "codemirror_mode": {
    "name": "ipython",
    "version": 3
   },
   "file_extension": ".py",
   "mimetype": "text/x-python",
   "name": "python",
   "nbconvert_exporter": "python",
   "pygments_lexer": "ipython3",
   "version": "3.8.3"
  }
 },
 "nbformat": 4,
 "nbformat_minor": 4
}
