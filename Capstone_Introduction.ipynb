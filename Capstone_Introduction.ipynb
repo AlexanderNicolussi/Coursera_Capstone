{
 "cells": [
  {
   "cell_type": "markdown",
   "metadata": {},
   "source": [
    "21.11.2020"
   ]
  },
  {
   "cell_type": "markdown",
   "metadata": {},
   "source": [
    "### Capstone Project - The Battle of Neighborhoods"
   ]
  },
  {
   "cell_type": "markdown",
   "metadata": {},
   "source": [
    "# Nightlife-activity in London"
   ]
  },
  {
   "cell_type": "markdown",
   "metadata": {},
   "source": [
    "## Introduction"
   ]
  },
  {
   "cell_type": "markdown",
   "metadata": {},
   "source": [
    "This report intends to examine the distribution of nightlife-activity in London, UK. The aim of the project is to find regions in the Greater London Area that have significant nightlife-activity (Pubs, Restaurants, Theatres…). Furthermore, we will try to analyse if a cluster with high activity exists by using a **DBSCAN** cluster machine learning algorithm. \n",
    "\n",
    "One big problem when moving to a new city is to identify a suitable area where we want to live. And a lot of studies have been done on various parameters that characterise each area, for example how pricy and international each area is. Nonetheless, it has been found that some aspects are missing in the aforementioned reports. Especially many young people have the urgent desire to live in a community with a vibrant nightlife. This report can be useful for different people. People moving to London who are seeking the nighlife can use this as a guide to find those areas. Also, investors who are planning on investing in student housing, or looking to open a new venue can use this as a reference for the different areas in the Greater London Area.\n",
    "\n",
    "For this purpose, we analyse the centres of activity in the Greater London Area, not just Inner London, to get a full picture of the city. This can be useful because somebody might be living outside of London and the travel to the nearest area of interest could be shorter, and also because investors might be interested in not so developed parts of London.\n",
    "\n",
    "This is just a preliminary study to determine which areas are to be considered further, which is up to the reader and their kind of interest in the data.\n",
    "\n",
    "The problem can be solved by using the Foursquare location data. We can use the area locations and find nearby venues. These venues can then be calssified. We can filter the venue-types that we are interested in and look at the frequency of occurrence in the neighbourhood of the chosen area. This frequency analysis is a good preliminary model for the evaluation of nightlife-activity."
   ]
  }
 ],
 "metadata": {
  "kernelspec": {
   "display_name": "Python 3",
   "language": "python",
   "name": "python3"
  },
  "language_info": {
   "codemirror_mode": {
    "name": "ipython",
    "version": 3
   },
   "file_extension": ".py",
   "mimetype": "text/x-python",
   "name": "python",
   "nbconvert_exporter": "python",
   "pygments_lexer": "ipython3",
   "version": "3.8.3"
  }
 },
 "nbformat": 4,
 "nbformat_minor": 4
}
